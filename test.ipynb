{
  "nbformat": 4,
  "nbformat_minor": 0,
  "metadata": {
    "colab": {
      "provenance": []
    },
    "kernelspec": {
      "name": "python3",
      "display_name": "Python 3"
    },
    "language_info": {
      "name": "python"
    }
  },
  "cells": [
    {
      "cell_type": "code",
      "execution_count": 2,
      "metadata": {
        "colab": {
          "base_uri": "https://localhost:8080/"
        },
        "id": "KaZ5hook0P7N",
        "outputId": "99007981-3707-4aaf-e30a-db2c792bdbd8"
      },
      "outputs": [
        {
          "output_type": "stream",
          "name": "stdout",
          "text": [
            "Requirement already satisfied: Flask in /usr/local/lib/python3.11/dist-packages (3.1.0)\n",
            "Requirement already satisfied: pyodbc in /usr/local/lib/python3.11/dist-packages (5.2.0)\n",
            "Requirement already satisfied: Werkzeug>=3.1 in /usr/local/lib/python3.11/dist-packages (from Flask) (3.1.3)\n",
            "Requirement already satisfied: Jinja2>=3.1.2 in /usr/local/lib/python3.11/dist-packages (from Flask) (3.1.5)\n",
            "Requirement already satisfied: itsdangerous>=2.2 in /usr/local/lib/python3.11/dist-packages (from Flask) (2.2.0)\n",
            "Requirement already satisfied: click>=8.1.3 in /usr/local/lib/python3.11/dist-packages (from Flask) (8.1.8)\n",
            "Requirement already satisfied: blinker>=1.9 in /usr/local/lib/python3.11/dist-packages (from Flask) (1.9.0)\n",
            "Requirement already satisfied: MarkupSafe>=2.0 in /usr/local/lib/python3.11/dist-packages (from Jinja2>=3.1.2->Flask) (3.0.2)\n"
          ]
        }
      ],
      "source": [
        "!pip install Flask pyodbc\n"
      ]
    },
    {
      "cell_type": "code",
      "source": [
        "# Define your connection details\n",
        "server = 'ROHITH/RO'\n",
        "database = 'ro'\n",
        "username = 'ROHITH/15512'\n",
        "\n"
      ],
      "metadata": {
        "id": "f0Gonnx30rDg"
      },
      "execution_count": 3,
      "outputs": []
    },
    {
      "cell_type": "code",
      "source": [
        "from flask import Flask, request, jsonify\n",
        "import pyodbc\n",
        "import threading\n",
        "\n",
        "# Define your connection details\n",
        "server = 'ROHITH\\\\RO'\n",
        "database = 'ro'  # Make sure this is the correct database name\n",
        "\n",
        "app = Flask(__name__)\n",
        "\n",
        "# Connect to SQL Server database using Trusted Connection (Windows Authentication)\n",
        "def get_db_connection():\n",
        "    conn = pyodbc.connect(\n",
        "        f'DRIVER={{ODBC Driver 17 for SQL Server}};SERVER={server};DATABASE={database};Trusted_Connection=yes;'\n",
        "    )\n",
        "    return conn\n",
        "\n",
        "@app.route('/query', methods=['POST'])\n",
        "def query():\n",
        "    user_query = request.json.get('query')\n",
        "    response = process_query(user_query)\n",
        "    return jsonify(response)\n",
        "\n",
        "def process_query(user_query):\n",
        "    conn = get_db_connection()\n",
        "    cur = conn.cursor()\n",
        "    # Implement logic to convert user_query to SQL and fetch results\n",
        "    if \"employees in the\" in user_query.lower():\n",
        "        department = user_query.split(\"department\")[0].split()[-1]\n",
        "        cur.execute(\"SELECT * FROM Employees WHERE Department = ?\", (department,))\n",
        "        employees = cur.fetchall()\n",
        "        return [dict(zip([column[0] for column in cur.description], row)) for row in employees]\n",
        "    elif \"manager of the\" in user_query.lower():\n",
        "        department = user_query.split(\"department\")[0].split()[-1]\n",
        "        cur.execute(\"SELECT Manager FROM Departments WHERE Name = ?\", (department,))\n",
        "        manager = cur.fetchone()\n",
        "        return {\"Manager\": manager[0]} if manager else {\"Error\": \"Department not found\"}\n",
        "    elif \"hired after\" in user_query.lower():\n",
        "        date = user_query.split(\"after\")[-1].strip()\n",
        "        cur.execute(\"SELECT * FROM Employees WHERE Hire_Date > ?\", (date,))\n",
        "        employees = cur.fetchall()\n",
        "        return [dict(zip([column[0] for column in cur.description], row)) for row in employees]\n",
        "    elif \"total salary expense for the\" in user_query.lower():\n",
        "        department = user_query.split(\"department\")[0].split()[-1]\n",
        "        cur.execute(\"SELECT SUM(Salary) as TotalSalary FROM Employees WHERE Department = ?\", (department,))\n",
        "        total_salary = cur.fetchone()\n",
        "        return {\"TotalSalary\": total_salary[0]} if total_salary else {\"Error\": \"Department not found\"}\n",
        "    else:\n",
        "        return {\"Error\": \"Unsupported query\"}\n",
        "\n",
        "# Run Flask app in a separate thread.\n",
        "def run_app():\n",
        "    app.run(host='0.0.0.0', port=5000)\n",
        "\n",
        "thread = threading.Thread(target=run_app)\n",
        "thread.start()\n"
      ],
      "metadata": {
        "colab": {
          "base_uri": "https://localhost:8080/"
        },
        "id": "TdV0HV_o2gGP",
        "outputId": "d578a361-109c-4217-ea7a-e4b8b4f8b31f"
      },
      "execution_count": 4,
      "outputs": [
        {
          "output_type": "stream",
          "name": "stdout",
          "text": [
            " * Serving Flask app '__main__'\n",
            " * Debug mode: off\n"
          ]
        },
        {
          "output_type": "stream",
          "name": "stderr",
          "text": [
            "INFO:werkzeug:\u001b[31m\u001b[1mWARNING: This is a development server. Do not use it in a production deployment. Use a production WSGI server instead.\u001b[0m\n",
            " * Running on all addresses (0.0.0.0)\n",
            " * Running on http://127.0.0.1:5000\n",
            " * Running on http://172.28.0.12:5000\n",
            "INFO:werkzeug:\u001b[33mPress CTRL+C to quit\u001b[0m\n"
          ]
        }
      ]
    }
  ]
}